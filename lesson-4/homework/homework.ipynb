{
 "cells": [
  {
   "cell_type": "markdown",
   "id": "72fd9ed0",
   "metadata": {},
   "source": [
    "1. Congratulations, You have completed Python Flow Control ( If Else and Loops) Quiz.\n",
    "You scored 12.5 points out of 13 points in total.\n",
    "\n",
    "No of Correct Answers: 13\n",
    "No of wrong Answers: 0\n",
    "Number of unanswered questions: 0\n",
    "Your obtained grade is PASS\n",
    "\n",
    "2.continue — skips the current iteration and moves to the next iteration of the loop.\n",
    "\n",
    "break — immediately exits the entire loop.\n",
    "\n",
    "3. For Loop- Used to iterate over a sequence or iterable (like a list, tuple, string, range, etc.) a known number of times. \n",
    "while loop:\n",
    "Repeats as long as a condition is true. It’s useful when the number of iterations is not known in advance and depends on some condition during execution.\n",
    "4. for i in range(1, 4):        # Tashqi sikl: i = 1, 2, 3\n",
    "    for j in range(1, 3):    # Ichki sikl: j = 1, 2\n",
    "        print(f\"i = {i}, j = {j}\")\n"
   ]
  },
  {
   "cell_type": "code",
   "execution_count": 1,
   "id": "42d9e7c3",
   "metadata": {},
   "outputs": [
    {
     "name": "stdout",
     "output_type": "stream",
     "text": [
      "[1, 1, 3, 4]\n"
     ]
    }
   ],
   "source": [
    "list1 = [1,1,2]\n",
    "list2 = [2,3,4]\n",
    "uncommon = []\n",
    "for x in list1:\n",
    "    if x not in list2:\n",
    "       uncommon.append(x) \n",
    "for  x in list2:\n",
    "     if x not in list1:\n",
    "        uncommon.append(x)\n",
    "print(uncommon)          "
   ]
  },
  {
   "cell_type": "code",
   "execution_count": 2,
   "id": "29f498d3",
   "metadata": {},
   "outputs": [
    {
     "name": "stdout",
     "output_type": "stream",
     "text": [
      "[1, 2, 3, 4, 5, 6]\n"
     ]
    }
   ],
   "source": [
    "list1 = [1,2,3]\n",
    "list2 = [4,5,6]\n",
    "uncommon = []\n",
    "for x in list1:\n",
    "    if x not in list2:\n",
    "       uncommon.append(x) \n",
    "for  x in list2:\n",
    "     if x not in list1:\n",
    "        uncommon.append(x)\n",
    "print(uncommon)     "
   ]
  },
  {
   "cell_type": "code",
   "execution_count": null,
   "id": "37e0c48a",
   "metadata": {},
   "outputs": [
    {
     "name": "stdout",
     "output_type": "stream",
     "text": [
      "[1, 2, 2, 5]\n"
     ]
    }
   ],
   "source": [
    "list1 = [1, 1, 2, 3, 4, 2]\n",
    "list2 = [1, 3, 4, 5]\n",
    "\n",
    "uncommon = []\n",
    "count_list2 = {}\n",
    "for x in list2:\n",
    "    count_list2[x] = count_list2.get(x, 0) + 1\n",
    "\n",
    "count_list1 = {}\n",
    "for x in list1:\n",
    "    count_list1[x] = count_list1.get(x, 0) + 1\n",
    "for x in count_list1:\n",
    "    diff = count_list1[x] - count_list2.get(x, 0)\n",
    "    if diff > 0:\n",
    "        for _ in range(diff):\n",
    "            uncommon.append(x)\n",
    "\n",
    "for x in count_list2:\n",
    "    diff = count_list2[x] - count_list1.get(x, 0)\n",
    "    if diff > 0:\n",
    "        for _ in range(diff):\n",
    "            uncommon.append(x)\n",
    "\n",
    "print(uncommon)  \n"
   ]
  },
  {
   "cell_type": "code",
   "execution_count": 9,
   "id": "d1410607",
   "metadata": {},
   "outputs": [
    {
     "name": "stdout",
     "output_type": "stream",
     "text": [
      "Result: 1\n",
      "Result: 4\n",
      "Result: 9\n",
      "Result: 16\n"
     ]
    }
   ],
   "source": [
    "n = 5\n",
    "for i  in range(1,n):\n",
    "    print(\"Result:\", i**2)"
   ]
  },
  {
   "cell_type": "code",
   "execution_count": 14,
   "id": "6b793892",
   "metadata": {},
   "outputs": [
    {
     "name": "stdout",
     "output_type": "stream",
     "text": [
      "hell_o\n"
     ]
    }
   ],
   "source": [
    "txt = \"hello\"\n",
    "result = \"\"\n",
    "vowels = \"aeiouAEIOU\"\n",
    "i = 0\n",
    "\n",
    "while i < len(txt):\n",
    "    result += txt[i]\n",
    "\n",
    "    # Har uchinchi belgidan keyin\n",
    "    if (i + 1) % 3 == 0 and i != len(txt) - 1:\n",
    "        # Hozirgi yoki oldingi belgi unli yoki oldingi belgi pastki chiziq bo'lsa\n",
    "        if (txt[i] in vowels) or (i > 0 and (txt[i-1] in vowels or result[-2] == \"_\")):\n",
    "            # Keyingi belgini qo'shamiz va pastki chiziq qo'yamiz\n",
    "            result += txt[i+1] + \"_\"\n",
    "            i += 1  # Keyingi belgini allaqachon qo'shdik, shuning uchun indeksni oshiramiz\n",
    "        else:\n",
    "            # Oddiy holatda pastki chiziq qo'yamiz\n",
    "            result += \"_\"\n",
    "    i += 1\n",
    "\n",
    "print(result)\n"
   ]
  },
  {
   "cell_type": "code",
   "execution_count": 19,
   "id": "baf45677",
   "metadata": {},
   "outputs": [
    {
     "name": "stdout",
     "output_type": "stream",
     "text": [
      "ass_alom\n"
     ]
    }
   ],
   "source": [
    "txt = \"assalom\"\n",
    "result = \"\"\n",
    "vowels = \"aeiouAEIOU\"\n",
    "i = 0\n",
    "\n",
    "while i < len(txt):\n",
    "    result += txt[i]\n",
    "\n",
    "    if (i + 1) % 3 == 0 and i != len(txt) - 1:\n",
    "        if (txt[i] in vowels) or (i > 0 and (txt[i-1] in vowels or result[-2] == \"_\")):\n",
    "            result += txt[i+1] + \"_\"\n",
    "            i += 1\n",
    "        else:\n",
    "            result += \"_\"\n",
    "    i += 1\n",
    "if result.endswith(\"_\"):\n",
    "    result = result[:-1]\n",
    "\n",
    "print(result)\n",
    "\n"
   ]
  },
  {
   "cell_type": "code",
   "execution_count": null,
   "id": "a26794ca",
   "metadata": {},
   "outputs": [
    {
     "name": "stdout",
     "output_type": "stream",
     "text": [
      "abc_abc_dabc_dea_bc_defa_bc_defg\n"
     ]
    }
   ],
   "source": [
    "txt = \"abcabcdabcdeabcdefabcdefg\"\n",
    "result = \"\"\n",
    "vowels = \"aeiouAEIOU\"\n",
    "i = 0\n",
    "\n",
    "while i < len(txt):\n",
    "    result += txt[i]\n",
    "\n",
    "    if (i + 1) % 3 == 0 and i != len(txt) - 1:\n",
    "        if (txt[i] in vowels) or (i > 0 and (txt[i-1] in vowels or result[-2] == \"_\")):\n",
    "            result += txt[i+1] + \"_\"\n",
    "            i += 1\n",
    "        else:\n",
    "            result += \"_\"\n",
    "    i += 1\n",
    "if result.endswith(\"_\"):\n",
    "    result = result[:-1]\n",
    "\n",
    "print(result)\n"
   ]
  },
  {
   "cell_type": "code",
   "execution_count": null,
   "id": "01c77c09",
   "metadata": {},
   "outputs": [
    {
     "name": "stdout",
     "output_type": "stream",
     "text": [
      "To high!\n",
      "Please enter a valid number.\n",
      "Please enter a valid number.\n",
      "Please enter a valid number.\n"
     ]
    }
   ],
   "source": [
    "import random\n",
    "while True:\n",
    "    number_to_guess = random.randint(1,100)\n",
    "    attempts = 10\n",
    "    while attempts > 0:\n",
    "        try:\n",
    "            guess = int(input(f\"Guess a number between 1 and 100 (Attempts left: {attempts}): \"))\n",
    "        except ValueError:\n",
    "            print(\"Please enter a valid number.\")\n",
    "            continue\n",
    "        if guess > number_to_guess:\n",
    "            print(\"To high!\")\n",
    "        elif guess<number_to_guess:\n",
    "            print(\"Too low!\")\n",
    "        else:\n",
    "            print(\"You guessed it right!\")\n",
    "            break\n",
    "        attempts -= 1\n",
    "    if attempts == 0:\n",
    "       print(\"You lost, Want to play again? (Y/YES/y/yes/ok)\")\n",
    "    again = input().strip()\n",
    "    if again not in ['Y', 'YES','y','yes', 'ok']:\n",
    "        print(\"Goodbye!\")\n",
    "        break\n",
    "    else:\n",
    "        break"
   ]
  },
  {
   "cell_type": "code",
   "execution_count": 1,
   "id": "3f09213f",
   "metadata": {},
   "outputs": [
    {
     "name": "stdout",
     "output_type": "stream",
     "text": [
      "Password is too short.\n"
     ]
    }
   ],
   "source": [
    "password = input(\"Enter your password:\")\n",
    "if len(password)<8:\n",
    "    print(\"Password is too short.\")\n",
    "elif not any(char.isupper() for char in password):\n",
    "    print(\"Pass must contain an uppercase letter.\")\n",
    "else:\n",
    "    print(\"Password is strong\")        "
   ]
  },
  {
   "cell_type": "code",
   "execution_count": 3,
   "id": "ff55f82c",
   "metadata": {},
   "outputs": [
    {
     "name": "stdout",
     "output_type": "stream",
     "text": [
      "2\n",
      "3\n",
      "5\n",
      "7\n",
      "11\n",
      "13\n",
      "17\n",
      "19\n",
      "23\n",
      "29\n",
      "31\n",
      "37\n",
      "41\n",
      "43\n",
      "47\n",
      "53\n",
      "59\n",
      "61\n",
      "67\n",
      "71\n",
      "73\n",
      "79\n",
      "83\n",
      "89\n",
      "97\n"
     ]
    }
   ],
   "source": [
    "for num in range(2, 101): \n",
    "    is_prime = True\n",
    "\n",
    "    for i in range(2, num):\n",
    "        if num % i == 0:\n",
    "            is_prime = False\n",
    "            break\n",
    "\n",
    "    if is_prime:\n",
    "        print(num)\n"
   ]
  },
  {
   "cell_type": "markdown",
   "id": "3ab5ecde",
   "metadata": {},
   "source": [
    "Bonus Challenge"
   ]
  },
  {
   "cell_type": "code",
   "execution_count": null,
   "id": "a5883c62",
   "metadata": {},
   "outputs": [
    {
     "name": "stdout",
     "output_type": "stream",
     "text": [
      "Computer chose: rock\n",
      "It's a tie!\n",
      "Score → You: 0 | Computer: 0\n",
      "------------------------------\n",
      "Computer chose: rock\n",
      "You win this round!\n",
      "Score → You: 1 | Computer: 0\n",
      "------------------------------\n",
      "Invalid input. Try again.\n"
     ]
    }
   ],
   "source": [
    "import random\n",
    "\n",
    "player_score = 0\n",
    "computer_score = 0\n",
    "options = ['rock', 'paper', 'scissors']\n",
    "\n",
    "while player_score < 5 and computer_score < 5:\n",
    "    player = input(\"Choose rock, paper, or scissors: \").lower()\n",
    "    if player not in options:\n",
    "        print(\"Invalid input. Try again.\")\n",
    "        continue\n",
    "\n",
    "    computer = random.choice(options)\n",
    "    print(\"Computer chose:\", computer)\n",
    "\n",
    "    if player == computer:\n",
    "        print(\"It's a tie!\")\n",
    "    elif (player == 'rock' and computer == 'scissors') or \\\n",
    "         (player == 'paper' and computer == 'rock') or \\\n",
    "         (player == 'scissors' and computer == 'paper'):\n",
    "        print(\"You win this round!\")\n",
    "        player_score += 1\n",
    "    else:\n",
    "        print(\"Computer wins this round!\")\n",
    "        computer_score += 1\n",
    "\n",
    "    print(f\"Score → You: {player_score} | Computer: {computer_score}\")\n",
    "    print(\"-\" * 30)\n",
    "\n",
    "if player_score == 5:\n",
    "    print(\"🎉 You won the match!\")\n",
    "else:\n",
    "    print(\"💻 Computer won the match!\")\n"
   ]
  }
 ],
 "metadata": {
  "kernelspec": {
   "display_name": "Python 3",
   "language": "python",
   "name": "python3"
  },
  "language_info": {
   "codemirror_mode": {
    "name": "ipython",
    "version": 3
   },
   "file_extension": ".py",
   "mimetype": "text/x-python",
   "name": "python",
   "nbconvert_exporter": "python",
   "pygments_lexer": "ipython3",
   "version": "3.10.11"
  }
 },
 "nbformat": 4,
 "nbformat_minor": 5
}
