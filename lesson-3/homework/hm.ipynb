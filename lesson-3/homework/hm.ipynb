{
 "cells": [
  {
   "cell_type": "markdown",
   "id": "9e264046",
   "metadata": {},
   "source": [
    "lists\n"
   ]
  },
  {
   "cell_type": "code",
   "execution_count": 41,
   "id": "86daa3c7",
   "metadata": {},
   "outputs": [
    {
     "name": "stdout",
     "output_type": "stream",
     "text": [
      "2 appears 3 times in the list.\n"
     ]
    }
   ],
   "source": [
    "my_list = [1, 2, 3, 4, 2, 2, 5]\n",
    "element_to_count = 2\n",
    "\n",
    "result = my_list.count(element_to_count)\n",
    "print(f\"{element_to_count} appears {result} times in the list.\")\n"
   ]
  },
  {
   "cell_type": "code",
   "execution_count": 2,
   "id": "a67fa01f",
   "metadata": {},
   "outputs": [
    {
     "name": "stdout",
     "output_type": "stream",
     "text": [
      "Sum of elements: 15\n"
     ]
    }
   ],
   "source": [
    "numbers = [1, 2, 3, 4, 5]\n",
    "result = 0\n",
    "\n",
    "for num in numbers:\n",
    "    result += num\n",
    "\n",
    "print(\"Sum of elements:\", result)\n"
   ]
  },
  {
   "cell_type": "code",
   "execution_count": 3,
   "id": "c3928d7a",
   "metadata": {},
   "outputs": [
    {
     "name": "stdout",
     "output_type": "stream",
     "text": [
      "Maximum element: 15\n"
     ]
    }
   ],
   "source": [
    "numbers = [4,9,1,15,9]\n",
    "max_element = max(numbers)\n",
    "print(\"Maximum element:\", max_element)"
   ]
  },
  {
   "cell_type": "code",
   "execution_count": 4,
   "id": "873364ec",
   "metadata": {},
   "outputs": [
    {
     "name": "stdout",
     "output_type": "stream",
     "text": [
      "Minimum  element: 1\n"
     ]
    }
   ],
   "source": [
    "numbers = [4,9,1,15,9]\n",
    "min_element = min(numbers)\n",
    "print(\"Minimum  element:\", min_element)"
   ]
  },
  {
   "cell_type": "code",
   "execution_count": 5,
   "id": "790d5138",
   "metadata": {},
   "outputs": [
    {
     "name": "stdout",
     "output_type": "stream",
     "text": [
      "On the list\n"
     ]
    }
   ],
   "source": [
    "my_list = [10,20,30,40,50]\n",
    "element = 30\n",
    "if element in my_list:\n",
    "    print(\"On the list\")\n",
    "else:\n",
    "    print(\"Is not list\")"
   ]
  },
  {
   "cell_type": "code",
   "execution_count": 6,
   "id": "df435f9f",
   "metadata": {},
   "outputs": [
    {
     "name": "stdout",
     "output_type": "stream",
     "text": [
      "First element: 10\n"
     ]
    }
   ],
   "source": [
    "my_list = [10,20,30,40,50]\n",
    "if  my_list:\n",
    "    first_element = my_list[0]\n",
    "    print(\"First element:\", first_element)\n",
    "else:\n",
    "    print(\"the list is empty\")"
   ]
  },
  {
   "cell_type": "code",
   "execution_count": 7,
   "id": "ae07b1ee",
   "metadata": {},
   "outputs": [
    {
     "name": "stdout",
     "output_type": "stream",
     "text": [
      "Last element: 14\n"
     ]
    }
   ],
   "source": [
    "my_list = [5,8,18,14]\n",
    "if  my_list:\n",
    "    last_element = my_list[-1]\n",
    "    print(\"Last element:\", last_element)\n",
    "else:\n",
    "    print(\"the list is empty\")"
   ]
  },
  {
   "cell_type": "code",
   "execution_count": 8,
   "id": "db4f03c4",
   "metadata": {},
   "outputs": [
    {
     "name": "stdout",
     "output_type": "stream",
     "text": [
      "[5, 8, 18]\n"
     ]
    }
   ],
   "source": [
    "original_list = [5,8,18,14,25,70]\n",
    "new_list = original_list[:3]\n",
    "print(new_list)\n"
   ]
  },
  {
   "cell_type": "code",
   "execution_count": 9,
   "id": "8512f200",
   "metadata": {},
   "outputs": [
    {
     "name": "stdout",
     "output_type": "stream",
     "text": [
      "[5, 8, 18]\n"
     ]
    }
   ],
   "source": [
    "original_list = [5,8,18,14,25,70]\n",
    "new_list = original_list[:3]\n",
    "print(new_list)\n"
   ]
  },
  {
   "cell_type": "code",
   "execution_count": 10,
   "id": "9af69918",
   "metadata": {},
   "outputs": [
    {
     "name": "stdout",
     "output_type": "stream",
     "text": [
      "Sorted list: [5, 8, 14, 18, 25, 70]\n"
     ]
    }
   ],
   "source": [
    "original_list = [8,5,18,14,25,70]\n",
    "sorted_list = sorted(original_list)\n",
    "print(\"Sorted list:\",sorted_list)\n"
   ]
  },
  {
   "cell_type": "code",
   "execution_count": 11,
   "id": "3203d4d2",
   "metadata": {},
   "outputs": [
    {
     "name": "stdout",
     "output_type": "stream",
     "text": [
      "Unique list: [70, 14, 80, 50, 18, 25]\n"
     ]
    }
   ],
   "source": [
    "original_list = [80,50,18,14,25,70]\n",
    "unique_list = list(set(original_list))\n",
    "print(\"Unique list:\",unique_list)\n"
   ]
  },
  {
   "cell_type": "code",
   "execution_count": 12,
   "id": "172a90b0",
   "metadata": {},
   "outputs": [
    {
     "name": "stdout",
     "output_type": "stream",
     "text": [
      "Original list: [10, 20, 25, 30, 40, 50, 60]\n"
     ]
    }
   ],
   "source": [
    "original_list = [10,20,30,40,50,60]\n",
    "element_to_insert = 25\n",
    "index = 2\n",
    "original_list.insert(index, element_to_insert)\n",
    "print(\"Original list:\",original_list)\n"
   ]
  },
  {
   "cell_type": "code",
   "execution_count": 13,
   "id": "ae8e6ece",
   "metadata": {},
   "outputs": [
    {
     "name": "stdout",
     "output_type": "stream",
     "text": [
      "Index: 1\n"
     ]
    }
   ],
   "source": [
    "original_list = [10,20,30,40,50,60]\n",
    "element_to_find = 20\n",
    "index = original_list.index(element_to_find)\n",
    "print(\"Index:\",index)\n"
   ]
  },
  {
   "cell_type": "code",
   "execution_count": 14,
   "id": "8f7a3c61",
   "metadata": {},
   "outputs": [
    {
     "name": "stdout",
     "output_type": "stream",
     "text": [
      "Is_empty: True\n"
     ]
    }
   ],
   "source": [
    "my_list = []\n",
    "is_empty = not my_list\n",
    "print(\"Is_empty:\",is_empty)\n"
   ]
  },
  {
   "cell_type": "code",
   "execution_count": 15,
   "id": "ba5bcb47",
   "metadata": {},
   "outputs": [
    {
     "name": "stdout",
     "output_type": "stream",
     "text": [
      "Even count: 4\n"
     ]
    }
   ],
   "source": [
    "numbers = [10,15,22,33,40,90,55]\n",
    "even_count = sum(1 for num in numbers if num % 2 == 0)\n",
    "print(\"Even count:\",even_count)\n"
   ]
  },
  {
   "cell_type": "code",
   "execution_count": 16,
   "id": "9d765435",
   "metadata": {},
   "outputs": [
    {
     "name": "stdout",
     "output_type": "stream",
     "text": [
      "Odd count: 3\n"
     ]
    }
   ],
   "source": [
    "numbers = [10,15,22,33,40,90,55]\n",
    "odd_count = sum(1 for num in numbers if num % 2 != 0)\n",
    "print(\"Odd count:\",odd_count)\n"
   ]
  },
  {
   "cell_type": "code",
   "execution_count": 17,
   "id": "001684a3",
   "metadata": {},
   "outputs": [
    {
     "name": "stdout",
     "output_type": "stream",
     "text": [
      "Combined list: [1, 2, 3, 7, 9, 34]\n"
     ]
    }
   ],
   "source": [
    "list1 = [1,2,3]\n",
    "list2=[7,9,34]\n",
    "combined_list = list1+list2\n",
    "print(\"Combined list:\", combined_list)"
   ]
  },
  {
   "cell_type": "code",
   "execution_count": 18,
   "id": "62931658",
   "metadata": {},
   "outputs": [
    {
     "name": "stdout",
     "output_type": "stream",
     "text": [
      "False\n"
     ]
    }
   ],
   "source": [
    "def is_sublist(main_list, sub_list):\n",
    "    sub_len = len(sub_list)\n",
    "    if sub_len == 0:\n",
    "        return True\n",
    "    return any(main_list[i:i+sub_len] == sub_list for i in range(len(main_list) - sub_len + 1))\n",
    "\n",
    "main = [1, 2, 3, 8, 7]\n",
    "sub = [7, 9, 34]\n",
    "\n",
    "print(is_sublist(main, sub))  \n"
   ]
  },
  {
   "cell_type": "code",
   "execution_count": 19,
   "id": "a90abf60",
   "metadata": {},
   "outputs": [
    {
     "name": "stdout",
     "output_type": "stream",
     "text": [
      "[10, 99, 30, 20, 40]\n"
     ]
    }
   ],
   "source": [
    "my_list = [10, 20, 30, 20, 40]\n",
    "old_value = 20\n",
    "new_value = 99\n",
    "\n",
    "if old_value in my_list:\n",
    "    index = my_list.index(old_value)\n",
    "    my_list[index] = new_value\n",
    "\n",
    "print(my_list)\n",
    " "
   ]
  },
  {
   "cell_type": "code",
   "execution_count": 20,
   "id": "9c16be3f",
   "metadata": {},
   "outputs": [
    {
     "name": "stdout",
     "output_type": "stream",
     "text": [
      "40\n"
     ]
    }
   ],
   "source": [
    "numbers = [10, 40, 20, 50, 30]\n",
    "unique_numbers = list(set(numbers))\n",
    "unique_numbers.sort(reverse=True)\n",
    "if len(unique_numbers)>=2:\n",
    "    second_largest = unique_numbers[1]\n",
    "    print(second_largest)\n",
    "else:\n",
    "    print(\"No  second largest element\")\n"
   ]
  },
  {
   "cell_type": "code",
   "execution_count": 21,
   "id": "304527d8",
   "metadata": {},
   "outputs": [
    {
     "name": "stdout",
     "output_type": "stream",
     "text": [
      "20\n"
     ]
    }
   ],
   "source": [
    "numbers = [10, 40, 20, 50, 30]\n",
    "unique_numbers = list(set(numbers))\n",
    "unique_numbers.sort()\n",
    "if len(unique_numbers)>=2:\n",
    "    second_smallest = unique_numbers[1]\n",
    "    print(second_smallest)\n",
    "else:\n",
    "    print(\"No  second smallest element\")\n"
   ]
  },
  {
   "cell_type": "code",
   "execution_count": 22,
   "id": "533ea794",
   "metadata": {},
   "outputs": [
    {
     "name": "stdout",
     "output_type": "stream",
     "text": [
      "Even number: [10, 40, 20, 50, 30]\n"
     ]
    }
   ],
   "source": [
    "numbers = [10, 40, 20, 50, 30,33,11]\n",
    "even_numbers = [num for num in numbers if num %2 == 0]\n",
    "\n",
    "print(\"Even number:\", even_numbers)\n"
   ]
  },
  {
   "cell_type": "code",
   "execution_count": 23,
   "id": "902c5204",
   "metadata": {},
   "outputs": [
    {
     "name": "stdout",
     "output_type": "stream",
     "text": [
      "ODD number: [33, 11]\n"
     ]
    }
   ],
   "source": [
    "numbers = [10, 40, 20, 50, 30,33,11]\n",
    "odd_numbers = [num for num in numbers if num %2 != 0]\n",
    "\n",
    "print(\"ODD number:\", odd_numbers)\n"
   ]
  },
  {
   "cell_type": "code",
   "execution_count": 24,
   "id": "6a5ada10",
   "metadata": {},
   "outputs": [
    {
     "name": "stdout",
     "output_type": "stream",
     "text": [
      " number: 7\n"
     ]
    }
   ],
   "source": [
    "numbers = [10, 40, 20, 50, 30,33,11]\n",
    "length = len(numbers)\n",
    "\n",
    "print(\" number:\", length)\n"
   ]
  },
  {
   "cell_type": "code",
   "execution_count": 25,
   "id": "6480a540",
   "metadata": {},
   "outputs": [
    {
     "name": "stdout",
     "output_type": "stream",
     "text": [
      " Copied List: [10, 40, 20, 50, 30, 33, 11]\n"
     ]
    }
   ],
   "source": [
    "original_list = [10, 40, 20, 50, 30,33,11]\n",
    "copied_list = list(original_list)\n",
    "\n",
    "print(\" Copied List:\", copied_list)\n"
   ]
  },
  {
   "cell_type": "code",
   "execution_count": 26,
   "id": "c8ea4f68",
   "metadata": {},
   "outputs": [
    {
     "name": "stdout",
     "output_type": "stream",
     "text": [
      "3\n",
      "[3, 4]\n",
      "None\n"
     ]
    }
   ],
   "source": [
    "def get_middle_elements(lst):\n",
    "    n = len(lst)\n",
    "    mid = n // 2\n",
    "    if n == 0:\n",
    "        return None  \n",
    "    if n % 2 == 1:\n",
    "        return lst[mid]\n",
    "    else:\n",
    "        return lst[mid-1:mid+1]\n",
    "print(get_middle_elements([1, 2, 3, 4, 5]))      \n",
    "print(get_middle_elements([1, 2, 3, 4, 5, 6]))   \n",
    "print(get_middle_elements([]))                   \n",
    "\n"
   ]
  },
  {
   "cell_type": "code",
   "execution_count": 27,
   "id": "d004d69d",
   "metadata": {},
   "outputs": [
    {
     "name": "stdout",
     "output_type": "stream",
     "text": [
      "Sublist: [12, 10, 15, 17]\n",
      "Maximum in sublist: 17\n"
     ]
    }
   ],
   "source": [
    "my_list = [5,12,10,15,17,3]\n",
    "start_index = 1\n",
    "end_index = 5\n",
    "sublist = my_list[start_index:end_index]\n",
    "max_in_sublist = max(sublist)\n",
    "print(\"Sublist:\", sublist)\n",
    "print(\"Maximum in sublist:\", max_in_sublist)\n",
    "\n"
   ]
  },
  {
   "cell_type": "code",
   "execution_count": 28,
   "id": "861b7473",
   "metadata": {},
   "outputs": [
    {
     "name": "stdout",
     "output_type": "stream",
     "text": [
      "Sublist: [12, 10, 15, 17]\n",
      "Minimum in sublist: 10\n"
     ]
    }
   ],
   "source": [
    "my_list = [5,12,10,15,17,3]\n",
    "start_index = 1\n",
    "end_index = 5\n",
    "sublist = my_list[start_index:end_index]\n",
    "min_in_sublist = min(sublist)\n",
    "print(\"Sublist:\", sublist)\n",
    "print(\"Minimum in sublist:\", min_in_sublist)\n",
    "\n"
   ]
  },
  {
   "cell_type": "code",
   "execution_count": 29,
   "id": "b409e375",
   "metadata": {},
   "outputs": [
    {
     "name": "stdout",
     "output_type": "stream",
     "text": [
      "Removed element: 10\n",
      "Updated list: [5, 12, 15, 17, 3]\n"
     ]
    }
   ],
   "source": [
    "my_list = [5,12,10,15,17,3]\n",
    "index_to_remove = 2\n",
    "if 0<=index_to_remove<len(my_list):\n",
    "    removed_element = my_list.pop(index_to_remove)\n",
    "    print(f\"Removed element: {removed_element}\")\n",
    "else:\n",
    "    print(\"Invalid index.\")\n",
    "\n",
    "print(\"Updated list:\", my_list)\n"
   ]
  },
  {
   "cell_type": "code",
   "execution_count": 30,
   "id": "8cd36401",
   "metadata": {},
   "outputs": [
    {
     "name": "stdout",
     "output_type": "stream",
     "text": [
      "True\n",
      "False\n"
     ]
    }
   ],
   "source": [
    "def is_sorted(lst):\n",
    "    return lst == sorted(lst)\n",
    "print(is_sorted([1,2,3,4,5]))\n",
    "print(is_sorted([5,4,3,2,1]))"
   ]
  },
  {
   "cell_type": "code",
   "execution_count": 31,
   "id": "8392e814",
   "metadata": {},
   "outputs": [
    {
     "name": "stdout",
     "output_type": "stream",
     "text": [
      "[1, 1, 1, 2, 2, 2, 3, 3, 3]\n"
     ]
    }
   ],
   "source": [
    "original_list = [1,2,3]\n",
    "repeat_count = 3\n",
    "repeated_list = [elem for elem in original_list for _ in range(repeat_count)]\n",
    "\n",
    "print(repeated_list)"
   ]
  },
  {
   "cell_type": "code",
   "execution_count": 32,
   "id": "b750401d",
   "metadata": {},
   "outputs": [
    {
     "name": "stdout",
     "output_type": "stream",
     "text": [
      "Merged sort: [1, 2, 2, 3, 5, 8]\n"
     ]
    }
   ],
   "source": [
    "list1 = [1,2,3]\n",
    "list2 =[5,8,2] \n",
    "merged_sorted_list=sorted(list1+list2)\n",
    "\n",
    "print(\"Merged sort:\", merged_sorted_list)"
   ]
  },
  {
   "cell_type": "code",
   "execution_count": 33,
   "id": "7f90fdaa",
   "metadata": {},
   "outputs": [
    {
     "name": "stdout",
     "output_type": "stream",
     "text": [
      "[0, 3, 5]\n"
     ]
    }
   ],
   "source": [
    "def find_all_indices(lst, target):\n",
    "    return [i for i, val in enumerate(lst) if val == target]\n",
    "my_list = [3, 5, 2, 3, 7, 3, 9]\n",
    "target_element = 3\n",
    "\n",
    "indices = find_all_indices(my_list, target_element)\n",
    "print(indices)\n"
   ]
  },
  {
   "cell_type": "code",
   "execution_count": 34,
   "id": "d83cac40",
   "metadata": {},
   "outputs": [
    {
     "name": "stdout",
     "output_type": "stream",
     "text": [
      "[4, 5, 1, 2, 3]\n"
     ]
    }
   ],
   "source": [
    "def rotate_list_right(lst,k):\n",
    "    if not lst:\n",
    "        return[]\n",
    "    k=k%len(lst)\n",
    "    return lst[-k:]+lst[:-k]\n",
    "original_list =[1,2,3,4,5]\n",
    "k = 2\n",
    "rotated = rotate_list_right(original_list, k)\n",
    "print(rotated)"
   ]
  },
  {
   "cell_type": "code",
   "execution_count": 35,
   "id": "0d58c00a",
   "metadata": {},
   "outputs": [
    {
     "name": "stdout",
     "output_type": "stream",
     "text": [
      "[1, 2, 3, 4, 5, 6, 7, 8, 9, 10]\n"
     ]
    }
   ],
   "source": [
    "range_list= list(range(1,11))\n",
    "print(range_list)"
   ]
  },
  {
   "cell_type": "code",
   "execution_count": 36,
   "id": "81a7aa3f",
   "metadata": {},
   "outputs": [
    {
     "name": "stdout",
     "output_type": "stream",
     "text": [
      "Sum of positive numbers: 20\n"
     ]
    }
   ],
   "source": [
    "numbers = [-5,3,7,-2,0,10,-1]\n",
    "positive_sum = sum(num for num in numbers if num>0)\n",
    "print(\"Sum of positive numbers:\", positive_sum)"
   ]
  },
  {
   "cell_type": "code",
   "execution_count": 37,
   "id": "968a35af",
   "metadata": {},
   "outputs": [
    {
     "name": "stdout",
     "output_type": "stream",
     "text": [
      "Sum of positive numbers: -8\n"
     ]
    }
   ],
   "source": [
    "numbers = [-5,3,7,-2,0,10,-1]\n",
    "positive_sum = sum(num for num in numbers if num<0)\n",
    "print(\"Sum of positive numbers:\", positive_sum)"
   ]
  },
  {
   "cell_type": "code",
   "execution_count": 38,
   "id": "bec4982f",
   "metadata": {},
   "outputs": [
    {
     "name": "stdout",
     "output_type": "stream",
     "text": [
      "True\n",
      "False\n"
     ]
    }
   ],
   "source": [
    "def is_palindrome(lst):\n",
    "    return lst == lst[::-1]\n",
    "print(is_palindrome([1,2,3,2,1]))\n",
    "print(is_palindrome([1,2,3,4,5]))"
   ]
  },
  {
   "cell_type": "code",
   "execution_count": 39,
   "id": "7c09849e",
   "metadata": {},
   "outputs": [
    {
     "name": "stdout",
     "output_type": "stream",
     "text": [
      "[[1, 2, 3], [4, 5, 6], [7, 8]]\n"
     ]
    }
   ],
   "source": [
    "def create_nested_list(lst,n):\n",
    "    return [lst[i:i+n] for i in range(0,len(lst), n)]\n",
    "original_list = [1,2,3,4,5,6,7,8]\n",
    "chunk_size = 3\n",
    "nested_list = create_nested_list(original_list, chunk_size)\n",
    "print(nested_list)"
   ]
  },
  {
   "cell_type": "code",
   "execution_count": 40,
   "id": "24cbfab8",
   "metadata": {},
   "outputs": [
    {
     "name": "stdout",
     "output_type": "stream",
     "text": [
      "[3, 5, 2, 1, 4]\n"
     ]
    }
   ],
   "source": [
    "def unique_in_order(lst):\n",
    "    seen = set()\n",
    "    unique_list = []\n",
    "    for item in lst:\n",
    "        if item not in seen:\n",
    "            seen.add(item)\n",
    "            unique_list.append(item)\n",
    "    return unique_list\n",
    "original_list = [3, 5, 3, 2, 5, 1, 2, 4]\n",
    "\n",
    "result = unique_in_order(original_list)\n",
    "print(result)\n"
   ]
  }
 ],
 "metadata": {
  "kernelspec": {
   "display_name": "Python 3",
   "language": "python",
   "name": "python3"
  },
  "language_info": {
   "codemirror_mode": {
    "name": "ipython",
    "version": 3
   },
   "file_extension": ".py",
   "mimetype": "text/x-python",
   "name": "python",
   "nbconvert_exporter": "python",
   "pygments_lexer": "ipython3",
   "version": "3.10.11"
  }
 },
 "nbformat": 4,
 "nbformat_minor": 5
}
