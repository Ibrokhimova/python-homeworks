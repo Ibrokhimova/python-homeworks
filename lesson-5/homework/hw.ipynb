{
 "cells": [
  {
   "cell_type": "markdown",
   "id": "422626a3",
   "metadata": {},
   "source": [
    "Task 1"
   ]
  },
  {
   "cell_type": "code",
   "execution_count": null,
   "id": "aadd6ede",
   "metadata": {},
   "outputs": [
    {
     "name": "stdout",
     "output_type": "stream",
     "text": [
      "72.0 degrees F = 22.22 degrees C\n",
      "\n"
     ]
    }
   ],
   "source": [
    "\n",
    "\n",
    "try:\n",
    "   \n",
    "    f = float(input(\"Enter a temperature in degrees F: \"))\n",
    "    c = (f - 32) * 5 / 9\n",
    "    print(f\"{f} degrees F = {round(c, 2)} degrees C\\n\")\n",
    "\n",
    "    c = float(input(\"Enter a temperature in degrees C: \"))\n",
    "    f = c * 9 / 5 + 32\n",
    "    print(f\"{c} degrees C = {round(f, 2)} degrees F\")\n",
    "\n",
    "except ValueError:\n",
    "    print(\"Please enter a valid number.\")\n"
   ]
  },
  {
   "cell_type": "markdown",
   "id": "b9f33916",
   "metadata": {},
   "source": [
    "Task 2"
   ]
  },
  {
   "cell_type": "code",
   "execution_count": 2,
   "id": "83d0d4d7",
   "metadata": {},
   "outputs": [
    {
     "name": "stdout",
     "output_type": "stream",
     "text": [
      "Please enter valid numeric values.\n"
     ]
    }
   ],
   "source": [
    "\n",
    "def invest(amount, rate, years):\n",
    "    for year in range(1, years + 1):\n",
    "        amount += amount * rate\n",
    "        print(f\"year {year}: ${amount:.2f}\")\n",
    "\n",
    "def main():\n",
    "    try:\n",
    "        amount = float(input(\"Enter the initial investment amount: \"))\n",
    "        rate_percent = float(input(\"Enter the annual rate of return (as %): \"))\n",
    "        years = int(input(\"Enter the number of years: \"))\n",
    "\n",
    "        rate = rate_percent / 100  # Convert percentage to decimal\n",
    "        print()  # Blank line before output\n",
    "        invest(amount, rate, years)\n",
    "\n",
    "    except ValueError:\n",
    "        print(\"Please enter valid numeric values.\")\n",
    "\n",
    "if __name__ == \"__main__\":\n",
    "    main()\n"
   ]
  },
  {
   "cell_type": "markdown",
   "id": "2c5f4812",
   "metadata": {},
   "source": [
    "Task 3"
   ]
  },
  {
   "cell_type": "code",
   "execution_count": 3,
   "id": "d9135e12",
   "metadata": {},
   "outputs": [
    {
     "name": "stdout",
     "output_type": "stream",
     "text": [
      "1 is a factor of 12\n",
      "2 is a factor of 12\n",
      "3 is a factor of 12\n",
      "4 is a factor of 12\n",
      "6 is a factor of 12\n",
      "12 is a factor of 12\n"
     ]
    }
   ],
   "source": [
    "\n",
    "\n",
    "try:\n",
    "    num = int(input(\"Enter a positive integer: \"))\n",
    "\n",
    "    if num <= 0:\n",
    "        print(\"Please enter a positive integer.\")\n",
    "    else:\n",
    "        for i in range(1, num + 1):\n",
    "            if num % i == 0:\n",
    "                print(f\"{i} is a factor of {num}\")\n",
    "\n",
    "except ValueError:\n",
    "    print(\"Please enter a valid integer.\")\n"
   ]
  },
  {
   "cell_type": "markdown",
   "id": "2ea0a044",
   "metadata": {},
   "source": [
    "Task 4"
   ]
  },
  {
   "cell_type": "code",
   "execution_count": 4,
   "id": "a166dea5",
   "metadata": {},
   "outputs": [
    {
     "name": "stdout",
     "output_type": "stream",
     "text": [
      "******************************\n",
      "Total students: 77,285\n",
      "Total tuition: $ 271,905\n",
      "\n",
      "Student mean: 11,040.71\n",
      "Student median: 10,566\n",
      "\n",
      "Tuition mean: $ 38,843.57\n",
      "Tuition median: $ 39,849\n",
      "******************************\n"
     ]
    }
   ],
   "source": [
    "\n",
    "\n",
    "universities = [\n",
    "    ['California Institute of Technology', 2175, 37704],\n",
    "    ['Harvard', 19627, 39849],\n",
    "    ['Massachusetts Institute of Technology', 10566, 40732],\n",
    "    ['Princeton', 7802, 37000],\n",
    "    ['Rice', 5879, 35551],\n",
    "    ['Stanford', 19535, 40569],\n",
    "    ['Yale', 11701, 40500]\n",
    "]\n",
    "\n",
    "def enrollment_stats(data):\n",
    "    students = []\n",
    "    tuitions = []\n",
    "    for uni in data:\n",
    "        students.append(uni[1])\n",
    "        tuitions.append(uni[2])\n",
    "    return students, tuitions\n",
    "\n",
    "def mean(values):\n",
    "    return sum(values) / len(values)\n",
    "\n",
    "def median(values):\n",
    "    sorted_vals = sorted(values)\n",
    "    n = len(sorted_vals)\n",
    "    mid = n // 2\n",
    "    if n % 2 == 0:\n",
    "        return (sorted_vals[mid - 1] + sorted_vals[mid]) / 2\n",
    "    else:\n",
    "        return sorted_vals[mid]\n",
    "\n",
    "student_list, tuition_list = enrollment_stats(universities)\n",
    "total_students = sum(student_list)\n",
    "total_tuition = sum(tuition_list)\n",
    "mean_students = mean(student_list)\n",
    "median_students = median(student_list)\n",
    "mean_tuition = mean(tuition_list)\n",
    "median_tuition = median(tuition_list)\n",
    "\n",
    "print(\"******************************\")\n",
    "print(f\"Total students: {total_students:,}\")\n",
    "print(f\"Total tuition: $ {total_tuition:,}\")\n",
    "print()\n",
    "print(f\"Student mean: {mean_students:,.2f}\")\n",
    "print(f\"Student median: {int(median_students):,}\")\n",
    "print()\n",
    "print(f\"Tuition mean: $ {mean_tuition:,.2f}\")\n",
    "print(f\"Tuition median: $ {int(median_tuition):,}\")\n",
    "print(\"******************************\")\n"
   ]
  },
  {
   "cell_type": "markdown",
   "id": "afdcda5e",
   "metadata": {},
   "source": [
    "Task 5\n"
   ]
  },
  {
   "cell_type": "code",
   "execution_count": 8,
   "id": "4072ce85",
   "metadata": {},
   "outputs": [
    {
     "name": "stdout",
     "output_type": "stream",
     "text": [
      "True\n",
      "True\n",
      "False\n",
      "False\n",
      "True\n"
     ]
    }
   ],
   "source": [
    "def is_prime(n):\n",
    "    if n <= 1:\n",
    "        return False  \n",
    "    if n == 2:\n",
    "        return True   \n",
    "    if n % 2 == 0:\n",
    "        return False  \n",
    "\n",
    "    for i in range(3, int(n ** 0.5) + 1, 2):\n",
    "        if n % i == 0:\n",
    "            return False\n",
    "    return True\n",
    "print(is_prime(2))   \n",
    "print(is_prime(11))  \n",
    "print(is_prime(15))  \n",
    "print(is_prime(1))   \n",
    "print(is_prime(97))\n"
   ]
  }
 ],
 "metadata": {
  "kernelspec": {
   "display_name": "Python 3",
   "language": "python",
   "name": "python3"
  },
  "language_info": {
   "codemirror_mode": {
    "name": "ipython",
    "version": 3
   },
   "file_extension": ".py",
   "mimetype": "text/x-python",
   "name": "python",
   "nbconvert_exporter": "python",
   "pygments_lexer": "ipython3",
   "version": "3.10.11"
  }
 },
 "nbformat": 4,
 "nbformat_minor": 5
}
