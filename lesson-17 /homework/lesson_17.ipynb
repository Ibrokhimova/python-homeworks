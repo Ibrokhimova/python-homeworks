{
  "nbformat": 4,
  "nbformat_minor": 0,
  "metadata": {
    "colab": {
      "provenance": []
    },
    "kernelspec": {
      "name": "python3",
      "display_name": "Python 3"
    },
    "language_info": {
      "name": "python"
    }
  },
  "cells": [
    {
      "cell_type": "code",
      "execution_count": 2,
      "metadata": {
        "id": "bH05MX241Ltj"
      },
      "outputs": [],
      "source": [
        "import sqlite3\n",
        "import pandas as pd"
      ]
    },
    {
      "cell_type": "code",
      "source": [
        "conn = sqlite3.connect('chinook.db')\n",
        "customers_df = pd.read_sql_query(\"SELECT * FROM customers\", conn)\n",
        "invoices_df = pd.read_sql_query(\"SELECT * FROM invoices\", conn)\n",
        "merged_df = pd.merge(customers_df, invoices_df, on='CustomerId', how='inner')\n",
        "invoice_counts = merged_df.groupby(['CustomerId', 'FirstName', 'LastName']).size().reset_index(name='InvoiceCount')\n",
        "print(invoice_counts.head())"
      ],
      "metadata": {
        "id": "1JPGzJlW1y4w"
      },
      "execution_count": null,
      "outputs": []
    },
    {
      "cell_type": "code",
      "source": [
        "\n",
        "movie_df = pd.read_csv('movie.csv')\n",
        "df1 = movie_df[['director_name', 'color']].dropna()\n",
        "df2 = movie_df[['director_name', 'num_critic_for_reviews']].dropna()\n",
        "df1 = df1.drop_duplicates(subset='director_name')\n",
        "df2 = df2.drop_duplicates(subset='director_name')\n",
        "left_join_df = pd.merge(df1, df2, on='director_name', how='left')\n",
        "full_outer_join_df = pd.merge(df1, df2, on='director_name', how='outer')\n",
        "print(\"Left Join Row Count:\", len(left_join_df))\n",
        "print(\"Full Outer Join Row Count:\", len(full_outer_join_df))\n"
      ],
      "metadata": {
        "id": "CnOAOZug1Vl7"
      },
      "execution_count": null,
      "outputs": []
    },
    {
      "cell_type": "code",
      "source": [
        "\n",
        "titanic_df = pd.read_excel('titanic.xlsx')\n",
        "grouped_titanic = titanic_df.groupby('Pclass').agg({\n",
        "    'Age': 'mean',\n",
        "    'Fare': 'sum',\n",
        "    'PassengerId': 'count'\n",
        "}).rename(columns={\n",
        "    'Age': 'AverageAge',\n",
        "    'Fare': 'TotalFare',\n",
        "    'PassengerId': 'PassengerCount'\n",
        "}).reset_index()\n",
        "\n",
        "print(grouped_titanic)\n"
      ],
      "metadata": {
        "id": "KMKwbEnD1t84"
      },
      "execution_count": null,
      "outputs": []
    },
    {
      "cell_type": "code",
      "source": [
        "\n",
        "flights_df = pd.read_parquet('flights.parquet')\n",
        "grouped_flights = flights_df.groupby(['Year', 'Month']).agg({\n",
        "    'FlightNum': 'count',\n",
        "    'ArrDelay': 'mean',\n",
        "    'DepDelay': 'max'\n",
        "}).rename(columns={\n",
        "    'FlightNum': 'TotalFlights',\n",
        "    'ArrDelay': 'AverageArrDelay',\n",
        "    'DepDelay': 'MaxDepDelay'\n",
        "}).reset_index()\n",
        "\n",
        "print(grouped_flights.head())\n"
      ],
      "metadata": {
        "id": "yK_oivAB2IEE"
      },
      "execution_count": null,
      "outputs": []
    },
    {
      "cell_type": "code",
      "source": [
        "titanic_df = pd.read_excel('titanic.xlsx')\n",
        "def classify_age(age):\n",
        "    if pd.isnull(age):\n",
        "        return 'Unknown'\n",
        "    return 'Child' if age < 18 else 'Adult'\n",
        "titanic_df['Age_Group'] = titanic_df['Age'].apply(classify_age)\n",
        "\n",
        "print(titanic_df[['Age', 'Age_Group']].head())\n"
      ],
      "metadata": {
        "id": "5yLWlpeb2R2g"
      },
      "execution_count": null,
      "outputs": []
    },
    {
      "cell_type": "code",
      "source": [
        "employee_df = pd.read_csv('employee.csv')\n",
        "employee_df['Normalized_Salary'] = employee_df.groupby('Department')['Salary'].transform(\n",
        "    lambda x: (x - x.min()) / (x.max() - x.min())\n",
        ")\n",
        "\n",
        "print(employee_df[['Department', 'Salary', 'Normalized_Salary']].head())\n"
      ],
      "metadata": {
        "id": "0sLFJwpR2WoP"
      },
      "execution_count": null,
      "outputs": []
    },
    {
      "cell_type": "code",
      "source": [
        "movie_df = pd.read_csv('movie.csv')\n",
        "def classify_duration(duration):\n",
        "    if pd.isnull(duration):\n",
        "        return 'Unknown'\n",
        "    elif duration < 60:\n",
        "        return 'Short'\n",
        "    elif duration <= 120:\n",
        "        return 'Medium'\n",
        "    else:\n",
        "        return 'Long'\n",
        "movie_df['Duration_Label'] = movie_df['duration'].apply(classify_duration)\n",
        "\n",
        "print(movie_df[['duration', 'Duration_Label']].head())\n"
      ],
      "metadata": {
        "id": "NHVPwP6m2efi"
      },
      "execution_count": null,
      "outputs": []
    },
    {
      "cell_type": "code",
      "source": [
        "titanic_df = pd.read_excel('titanic.xlsx')\n",
        "def filter_survivors(df):\n",
        "    return df[df['Survived'] == 1]\n",
        "\n",
        "def fill_missing_age(df):\n",
        "    return df.assign(Age=df['Age'].fillna(df['Age'].mean()))\n",
        "\n",
        "def create_fare_per_age(df):\n",
        "    return df.assign(Fare_Per_Age=df['Fare'] / df['Age'])\n",
        "titanic_pipeline = (\n",
        "    titanic_df\n",
        "    .pipe(filter_survivors)\n",
        "    .pipe(fill_missing_age)\n",
        "    .pipe(create_fare_per_age)\n",
        ")\n",
        "\n",
        "print(titanic_pipeline[['Survived', 'Age', 'Fare', 'Fare_Per_Age']].head())\n"
      ],
      "metadata": {
        "id": "t7vy2t4E2tYY"
      },
      "execution_count": null,
      "outputs": []
    },
    {
      "cell_type": "code",
      "source": [
        "flights_df = pd.read_parquet('flights.parquet')\n",
        "def filter_delayed_flights(df):\n",
        "    return df[df['DepDelay'] > 30]\n",
        "\n",
        "def add_delay_per_hour(df):\n",
        "    return df.assign(Delay_Per_Hour=df['DepDelay'] / df['AirTime'])\n",
        "flights_pipeline = (\n",
        "    flights_df\n",
        "    .pipe(filter_delayed_flights)\n",
        "    .pipe(add_delay_per_hour)\n",
        ")\n",
        "\n",
        "print(flights_pipeline[['DepDelay', 'AirTime', 'Delay_Per_Hour']].head())\n"
      ],
      "metadata": {
        "id": "InmtE9jJ20fs"
      },
      "execution_count": null,
      "outputs": []
    }
  ]
}